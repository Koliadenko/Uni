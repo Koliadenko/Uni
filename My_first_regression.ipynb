{
  "nbformat": 4,
  "nbformat_minor": 0,
  "metadata": {
    "colab": {
      "name": "My first regression.ipynb",
      "provenance": [],
      "authorship_tag": "ABX9TyMKt5LUg8QD9wJXEby5EB4g"
    },
    "kernelspec": {
      "name": "python3",
      "display_name": "Python 3"
    }
  },
  "cells": [
    {
      "cell_type": "code",
      "metadata": {
        "colab": {
          "base_uri": "https://localhost:8080/",
          "height": 1000
        },
        "id": "M-AslpbyCsTA",
        "outputId": "8ffae9ba-8fd1-4cd9-f8fa-88e90c60a501"
      },
      "source": [
        "import numpy as np\n",
        "import pandas as pd\n",
        "#from sklearn.linear_model import LinearRegression\n",
        "import matplotlib.pyplot as plt\n",
        "import statsmodels.api as sm\n",
        "\n",
        "data = pd.read_excel('/content/data.xlsx', names=['Speed', 'Distance'], usecols='C,D', dtype='float', skiprows=range(0,6))\n",
        "data.dropna()\n",
        "#print(data)\n",
        "\n",
        "X = sm.add_constant(data['Speed'])\n",
        "model = sm.OLS(data['Distance'],X)\n",
        "results = model.fit()\n",
        "\n",
        "plt.scatter(data['Speed'],data['Distance'],alpha=0.3)\n",
        "y_predict = results.params[0] + results.params[1]*data['Speed']\n",
        "plt.plot(data['Speed'],y_predict, linewidth=3)\n",
        "\n",
        "print(results.summary())\n",
        "\n",
        "model2 = sm.OLS(data['Distance'], X**2)\n",
        "results2 = model2.fit()\n",
        "\n",
        "y_predict2 = results2.params[0] + results2.params[1]*data['Speed']*data['Speed']\n",
        "plt.plot(data['Speed'],y_predict2, linewidth=3)\n",
        "\n",
        "print(results2.summary())\n",
        "'''\n",
        "X2 = X.copy()\n",
        "X2['square'] = X2['Speed']**2\n",
        "model3 = sm.OLS(data['Distance'], X2)\n",
        "print(X2)\n",
        "results3 = model3.fit()\n",
        "\n",
        "y_predict3 = results3.params[0] + results3.params[1]*X2['Speed'] + results3.params[2]*X2['square']\n",
        "plt.plot(data['Speed'],y_predict3, linewidth=3)\n",
        "\n",
        "print(results3.summary())\n",
        "\n",
        "\n",
        "print(results3.params)\n",
        "#print(y_predict2)\n",
        "'''\n",
        "def pred(i):\n",
        "    return results2.params[0] + results2.params[1]*i*i\n",
        "\n",
        "print(pred(18))\n",
        "print(pred(27))"
      ],
      "execution_count": null,
      "outputs": [
        {
          "output_type": "stream",
          "text": [
            "                            OLS Regression Results                            \n",
            "==============================================================================\n",
            "Dep. Variable:               Distance   R-squared:                       0.651\n",
            "Model:                            OLS   Adj. R-squared:                  0.644\n",
            "Method:                 Least Squares   F-statistic:                     89.57\n",
            "Date:                Tue, 23 Feb 2021   Prob (F-statistic):           1.49e-12\n",
            "Time:                        13:40:17   Log-Likelihood:                -206.58\n",
            "No. Observations:                  50   AIC:                             417.2\n",
            "Df Residuals:                      48   BIC:                             421.0\n",
            "Df Model:                           1                                         \n",
            "Covariance Type:            nonrobust                                         \n",
            "==============================================================================\n",
            "                 coef    std err          t      P>|t|      [0.025      0.975]\n",
            "------------------------------------------------------------------------------\n",
            "const        -17.5791      6.758     -2.601      0.012     -31.168      -3.990\n",
            "Speed          3.9324      0.416      9.464      0.000       3.097       4.768\n",
            "==============================================================================\n",
            "Omnibus:                        8.975   Durbin-Watson:                   1.676\n",
            "Prob(Omnibus):                  0.011   Jarque-Bera (JB):                8.189\n",
            "Skew:                           0.885   Prob(JB):                       0.0167\n",
            "Kurtosis:                       3.893   Cond. No.                         50.7\n",
            "==============================================================================\n",
            "\n",
            "Warnings:\n",
            "[1] Standard Errors assume that the covariance matrix of the errors is correctly specified.\n",
            "                            OLS Regression Results                            \n",
            "==============================================================================\n",
            "Dep. Variable:               Distance   R-squared:                       0.666\n",
            "Model:                            OLS   Adj. R-squared:                  0.659\n",
            "Method:                 Least Squares   F-statistic:                     95.67\n",
            "Date:                Tue, 23 Feb 2021   Prob (F-statistic):           5.20e-13\n",
            "Time:                        13:40:17   Log-Likelihood:                -205.49\n",
            "No. Observations:                  50   AIC:                             415.0\n",
            "Df Residuals:                      48   BIC:                             418.8\n",
            "Df Model:                           1                                         \n",
            "Covariance Type:            nonrobust                                         \n",
            "==============================================================================\n",
            "                 coef    std err          t      P>|t|      [0.025      0.975]\n",
            "------------------------------------------------------------------------------\n",
            "const          8.8600      4.086      2.168      0.035       0.644      17.076\n",
            "Speed          0.1290      0.013      9.781      0.000       0.102       0.155\n",
            "==============================================================================\n",
            "Omnibus:                       11.680   Durbin-Watson:                   1.755\n",
            "Prob(Omnibus):                  0.003   Jarque-Bera (JB):               11.759\n",
            "Skew:                           1.021   Prob(JB):                      0.00280\n",
            "Kurtosis:                       4.213   Cond. No.                         595.\n",
            "==============================================================================\n",
            "\n",
            "Warnings:\n",
            "[1] Standard Errors assume that the covariance matrix of the errors is correctly specified.\n",
            "50.64589777088399\n",
            "102.87820929860956\n"
          ],
          "name": "stdout"
        },
        {
          "output_type": "display_data",
          "data": {
            "image/png": "[encoded data removed]",
            "text/plain": [
              "<Figure size 432x288 with 1 Axes>"
            ]
          },
          "metadata": {
            "tags": [],
            "needs_background": "light"
          }
        }
      ]
    }
  ]
}